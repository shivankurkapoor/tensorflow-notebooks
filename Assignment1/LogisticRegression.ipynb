{
 "cells": [
  {
   "cell_type": "code",
   "execution_count": 2,
   "metadata": {
    "collapsed": true
   },
   "outputs": [],
   "source": [
    "# These are all the modules we'll be using later. Make sure you can import them\n",
    "# before proceeding further.\n",
    "from __future__ import print_function\n",
    "import matplotlib.pyplot as plt\n",
    "import numpy as np\n",
    "import os\n",
    "import sys\n",
    "import tarfile\n",
    "from IPython.display import display, Image\n",
    "from scipy import ndimage\n",
    "from sklearn.linear_model import LogisticRegression\n",
    "from six.moves.urllib.request import urlretrieve\n",
    "from six.moves import cPickle as pickle\n",
    "from sklearn import linear_model\n",
    "from sklearn.metrics import classification_report\n",
    "from sklearn import datasets\n",
    "from sklearn import svm\n",
    "from sklearn import metrics\n",
    "\n",
    "# Config the matplotlib backend as plotting inline in IPython\n",
    "%matplotlib inline"
   ]
  },
  {
   "cell_type": "code",
   "execution_count": 3,
   "metadata": {
    "collapsed": true
   },
   "outputs": [],
   "source": [
    "url = 'https://commondatastorage.googleapis.com/books1000/'\n",
    "last_percent_reported = None\n",
    "data_root = '/Users/shivankurkapoor/Desktop/Study/ML/Udacity/Assignment1' # Change me to store data elsewhere\n"
   ]
  },
  {
   "cell_type": "code",
   "execution_count": 4,
   "metadata": {
    "collapsed": true
   },
   "outputs": [],
   "source": [
    "def download_progress_hook(count, blockSize, totalSize):\n",
    "  \"\"\"A hook to report the progress of a download. This is mostly intended for users with\n",
    "  slow internet connections. Reports every 5% change in download progress.\n",
    "  \"\"\"\n",
    "  global last_percent_reported\n",
    "  percent = int(count * blockSize * 100 / totalSize)\n",
    "\n",
    "  if last_percent_reported != percent:\n",
    "    if percent % 5 == 0:\n",
    "      sys.stdout.write(\"%s%%\" % percent)\n",
    "      sys.stdout.flush()\n",
    "    else:\n",
    "      sys.stdout.write(\".\")\n",
    "      sys.stdout.flush()\n",
    "      \n",
    "    last_percent_reported = percent\n",
    "    \n",
    "def maybe_download(filename, expected_bytes, force=False):\n",
    "  \"\"\"Download a file if not present, and make sure it's the right size.\"\"\"\n",
    "  dest_filename = os.path.join(data_root, filename)\n",
    "  if force or not os.path.exists(dest_filename):\n",
    "    print('Attempting to download:', filename) \n",
    "    filename, _ = urlretrieve(url + filename, dest_filename, reporthook=download_progress_hook)\n",
    "    print('\\nDownload Complete!')\n",
    "  statinfo = os.stat(dest_filename)\n",
    "  if statinfo.st_size == expected_bytes:\n",
    "    print('Found and verified', dest_filename)\n",
    "  else:\n",
    "    raise Exception(\n",
    "      'Failed to verify ' + dest_filename + '. Can you get to it with a browser?')\n",
    "  return dest_filename"
   ]
  },
  {
   "cell_type": "code",
   "execution_count": 5,
   "metadata": {
    "collapsed": false,
    "scrolled": true
   },
   "outputs": [
    {
     "name": "stdout",
     "output_type": "stream",
     "text": [
      "Attempting to download: notMNIST_large.tar.gz\n",
      "0%....5%....10%....15%....20%....25%....30%....35%....40%....45%....50%....55%....60%....65%....70%....75%....80%....85%....90%....95%....100%\n",
      "Download Complete!\n",
      "Found and verified /Users/shivankurkapoor/Desktop/Study/ML/Udacity/Assignment1/notMNIST_large.tar.gz\n",
      "Attempting to download: notMNIST_small.tar.gz\n",
      "0%....5%....10%....15%....20%....25%....30%....35%....40%....45%....50%....55%....60%....65%....70%....75%....80%....85%....90%....95%....100%\n",
      "Download Complete!\n",
      "Found and verified /Users/shivankurkapoor/Desktop/Study/ML/Udacity/Assignment1/notMNIST_small.tar.gz\n"
     ]
    }
   ],
   "source": [
    "train_filename = maybe_download('notMNIST_large.tar.gz', 247336696)\n",
    "test_filename = maybe_download('notMNIST_small.tar.gz', 8458043)"
   ]
  },
  {
   "cell_type": "code",
   "execution_count": 6,
   "metadata": {
    "collapsed": false,
    "scrolled": true
   },
   "outputs": [
    {
     "name": "stdout",
     "output_type": "stream",
     "text": [
      "/Users/shivankurkapoor/Desktop/Study/ML/Udacity/Assignment1/notMNIST_large already present - Skipping extraction of /Users/shivankurkapoor/Desktop/Study/ML/Udacity/Assignment1/notMNIST_large.tar.gz.\n",
      "['/Users/shivankurkapoor/Desktop/Study/ML/Udacity/Assignment1/notMNIST_large/A', '/Users/shivankurkapoor/Desktop/Study/ML/Udacity/Assignment1/notMNIST_large/B', '/Users/shivankurkapoor/Desktop/Study/ML/Udacity/Assignment1/notMNIST_large/C', '/Users/shivankurkapoor/Desktop/Study/ML/Udacity/Assignment1/notMNIST_large/D', '/Users/shivankurkapoor/Desktop/Study/ML/Udacity/Assignment1/notMNIST_large/E', '/Users/shivankurkapoor/Desktop/Study/ML/Udacity/Assignment1/notMNIST_large/F', '/Users/shivankurkapoor/Desktop/Study/ML/Udacity/Assignment1/notMNIST_large/G', '/Users/shivankurkapoor/Desktop/Study/ML/Udacity/Assignment1/notMNIST_large/H', '/Users/shivankurkapoor/Desktop/Study/ML/Udacity/Assignment1/notMNIST_large/I', '/Users/shivankurkapoor/Desktop/Study/ML/Udacity/Assignment1/notMNIST_large/J']\n",
      "/Users/shivankurkapoor/Desktop/Study/ML/Udacity/Assignment1/notMNIST_small already present - Skipping extraction of /Users/shivankurkapoor/Desktop/Study/ML/Udacity/Assignment1/notMNIST_small.tar.gz.\n",
      "['/Users/shivankurkapoor/Desktop/Study/ML/Udacity/Assignment1/notMNIST_small/A', '/Users/shivankurkapoor/Desktop/Study/ML/Udacity/Assignment1/notMNIST_small/B', '/Users/shivankurkapoor/Desktop/Study/ML/Udacity/Assignment1/notMNIST_small/C', '/Users/shivankurkapoor/Desktop/Study/ML/Udacity/Assignment1/notMNIST_small/D', '/Users/shivankurkapoor/Desktop/Study/ML/Udacity/Assignment1/notMNIST_small/E', '/Users/shivankurkapoor/Desktop/Study/ML/Udacity/Assignment1/notMNIST_small/F', '/Users/shivankurkapoor/Desktop/Study/ML/Udacity/Assignment1/notMNIST_small/G', '/Users/shivankurkapoor/Desktop/Study/ML/Udacity/Assignment1/notMNIST_small/H', '/Users/shivankurkapoor/Desktop/Study/ML/Udacity/Assignment1/notMNIST_small/I', '/Users/shivankurkapoor/Desktop/Study/ML/Udacity/Assignment1/notMNIST_small/J']\n"
     ]
    }
   ],
   "source": [
    "num_classes = 10\n",
    "np.random.seed(133)\n",
    "\n",
    "def maybe_extract(filename, force=False):\n",
    "    root = os.path.splitext(os.path.splitext(filename)[0])[0]  # remove .tar.gz\n",
    "    if os.path.isdir(root) and not force:\n",
    "      # You may override by setting force=True.\n",
    "      print('%s already present - Skipping extraction of %s.' % (root, filename))\n",
    "    else:\n",
    "        print('Extracting data for %s. This may take a while. Please wait.' % root)\n",
    "        tar = tarfile.open(filename)\n",
    "        sys.stdout.flush()\n",
    "        tar.extractall(data_root)\n",
    "        tar.close()\n",
    "    data_folders = [\n",
    "      os.path.join(root, d) for d in sorted(os.listdir(root))\n",
    "      if os.path.isdir(os.path.join(root, d))]\n",
    "    if len(data_folders) != num_classes:\n",
    "        raise Exception(\n",
    "        'Expected %d folders, one per class. Found %d instead.' % (\n",
    "         num_classes, len(data_folders)))\n",
    "    print(data_folders)\n",
    "    return data_folders\n",
    "  \n",
    "train_folders = maybe_extract(train_filename)\n",
    "test_folders = maybe_extract(test_filename)"
   ]
  },
  {
   "cell_type": "code",
   "execution_count": 7,
   "metadata": {
    "collapsed": true
   },
   "outputs": [],
   "source": [
    "image_size = 28 #Pixel width and height\n",
    "pixel_depth = 255.0 #Number of levels per pixel\n",
    "\n",
    "def load_letter(folder, min_num_images):\n",
    "    \"\"\"Load the data for the single letter image\"\"\"\n",
    "    image_file = os.listdir(folder)\n",
    "    dataset = np.ndarray(shape=(len(image_file), image_size, image_size), \n",
    "                        dtype=np.float32)\n",
    "    print(folder)\n",
    "    num_images = 0\n",
    "    for i, image in enumerate(image_file):\n",
    "        image_file = os.path.join(folder, image)\n",
    "        try:\n",
    "            \n",
    "            image_data = (ndimage.imread(image_file).astype(float) - \n",
    "                         pixel_depth / 2) / pixel_depth\n",
    "            if image_data.shape != (image_size, image_size):\n",
    "                raise Exception('Unexpected image shape: %s' % str(image_data.shape))\n",
    "            dataset[i,:,:]  = image_data\n",
    "            num_images = i+1\n",
    "        except IOError as e:\n",
    "            print('Could not read: ', image_file, ':', e, '--skipping')\n",
    "    \n",
    "    dataset = dataset[0:num_images, :,:]\n",
    "    if num_images < min_num_images:\n",
    "        raise Exception('Too few images than expected: %d < %d' %\n",
    "                       (num_images < min_num_images))\n",
    "    \n",
    "    print('Full dataset tensor:', dataset.shape)\n",
    "    print('Mean:', np.mean(dataset))\n",
    "    print('Sigma:', np.std(dataset))\n",
    "    return dataset"
   ]
  },
  {
   "cell_type": "code",
   "execution_count": 8,
   "metadata": {
    "collapsed": true
   },
   "outputs": [],
   "source": [
    "def maybe_pickle(data_folders, min_num_images_per_class, force=False):\n",
    "    dataset_names = []\n",
    "    for folder in data_folders:\n",
    "        set_filename = folder + '.pickle'\n",
    "        dataset_names.append(set_filename)\n",
    "        if os.path.exists(set_filename) and not force:\n",
    "            print('%s already present' % set_filename)\n",
    "        else:\n",
    "            print('Pickling %s' % set_filename)\n",
    "            dataset = load_letter(folder, min_num_images_per_class)\n",
    "            try:\n",
    "                with open(set_filename, 'wb') as f:\n",
    "                    pickle.dump(dataset, f, pickle.HIGHEST_PROTOCOL)\n",
    "            except Exception as e:\n",
    "                print('Unable to save data to', set_filename, ':', e)\n",
    "    return dataset_names"
   ]
  },
  {
   "cell_type": "code",
   "execution_count": 9,
   "metadata": {
    "collapsed": false,
    "scrolled": true
   },
   "outputs": [
    {
     "name": "stdout",
     "output_type": "stream",
     "text": [
      "/Users/shivankurkapoor/Desktop/Study/ML/Udacity/Assignment1/notMNIST_large/A.pickle already present\n",
      "/Users/shivankurkapoor/Desktop/Study/ML/Udacity/Assignment1/notMNIST_large/B.pickle already present\n",
      "/Users/shivankurkapoor/Desktop/Study/ML/Udacity/Assignment1/notMNIST_large/C.pickle already present\n",
      "/Users/shivankurkapoor/Desktop/Study/ML/Udacity/Assignment1/notMNIST_large/D.pickle already present\n",
      "/Users/shivankurkapoor/Desktop/Study/ML/Udacity/Assignment1/notMNIST_large/E.pickle already present\n",
      "/Users/shivankurkapoor/Desktop/Study/ML/Udacity/Assignment1/notMNIST_large/F.pickle already present\n",
      "/Users/shivankurkapoor/Desktop/Study/ML/Udacity/Assignment1/notMNIST_large/G.pickle already present\n",
      "/Users/shivankurkapoor/Desktop/Study/ML/Udacity/Assignment1/notMNIST_large/H.pickle already present\n",
      "/Users/shivankurkapoor/Desktop/Study/ML/Udacity/Assignment1/notMNIST_large/I.pickle already present\n",
      "/Users/shivankurkapoor/Desktop/Study/ML/Udacity/Assignment1/notMNIST_large/J.pickle already present\n",
      "/Users/shivankurkapoor/Desktop/Study/ML/Udacity/Assignment1/notMNIST_small/A.pickle already present\n",
      "/Users/shivankurkapoor/Desktop/Study/ML/Udacity/Assignment1/notMNIST_small/B.pickle already present\n",
      "/Users/shivankurkapoor/Desktop/Study/ML/Udacity/Assignment1/notMNIST_small/C.pickle already present\n",
      "/Users/shivankurkapoor/Desktop/Study/ML/Udacity/Assignment1/notMNIST_small/D.pickle already present\n",
      "/Users/shivankurkapoor/Desktop/Study/ML/Udacity/Assignment1/notMNIST_small/E.pickle already present\n",
      "/Users/shivankurkapoor/Desktop/Study/ML/Udacity/Assignment1/notMNIST_small/F.pickle already present\n",
      "/Users/shivankurkapoor/Desktop/Study/ML/Udacity/Assignment1/notMNIST_small/G.pickle already present\n",
      "/Users/shivankurkapoor/Desktop/Study/ML/Udacity/Assignment1/notMNIST_small/H.pickle already present\n",
      "/Users/shivankurkapoor/Desktop/Study/ML/Udacity/Assignment1/notMNIST_small/I.pickle already present\n",
      "/Users/shivankurkapoor/Desktop/Study/ML/Udacity/Assignment1/notMNIST_small/J.pickle already present\n"
     ]
    }
   ],
   "source": [
    "train_datasets = maybe_pickle(train_folders, 45000)\n",
    "test_datasets = maybe_pickle(test_folders, 1800)"
   ]
  },
  {
   "cell_type": "code",
   "execution_count": 10,
   "metadata": {
    "collapsed": false
   },
   "outputs": [
    {
     "name": "stdout",
     "output_type": "stream",
     "text": [
      "/Users/shivankurkapoor/Desktop/Study/ML/Udacity/Assignment1/notMNIST_large/A.pickle\n"
     ]
    },
    {
     "data": {
      "text/plain": [
       "<matplotlib.image.AxesImage at 0x10f9d6f50>"
      ]
     },
     "execution_count": 10,
     "metadata": {},
     "output_type": "execute_result"
    },
    {
     "data": {
      "image/png": "[encoded data removed]",
      "text/plain": [
       "<matplotlib.figure.Figure at 0x102f1c910>"
      ]
     },
     "metadata": {},
     "output_type": "display_data"
    }
   ],
   "source": [
    "#Testing if images are good\n",
    "pickle_file = train_datasets[0]\n",
    "print(pickle_file)\n",
    "with open(pickle_file, 'rb') as f:\n",
    "    image_dataset = pickle.load(f)\n",
    "sample_image = image_dataset[2] * pixel_depth + pixel_depth / 2\n",
    "plt.imshow(sample_image, cmap='Greys', interpolation='nearest')"
   ]
  },
  {
   "cell_type": "code",
   "execution_count": null,
   "metadata": {
    "collapsed": false,
    "scrolled": true
   },
   "outputs": [],
   "source": []
  },
  {
   "cell_type": "code",
   "execution_count": 14,
   "metadata": {
    "collapsed": false
   },
   "outputs": [],
   "source": [
    "def make_arrays(nb_rows, img_size):\n",
    "    if nb_rows:\n",
    "        dataset = np.ndarray((nb_rows, img_size, img_size), dtype=np.float32)\n",
    "        labels = np.ndarray(nb_rows, dtype=np.int32)\n",
    "    else:\n",
    "        dataset, labels = None, None\n",
    "    return dataset, labels"
   ]
  },
  {
   "cell_type": "code",
   "execution_count": 15,
   "metadata": {
    "collapsed": false
   },
   "outputs": [],
   "source": [
    "def merge_datasets(pickle_files, train_size, valid_size=0):\n",
    "    num_classes = len(pickle_files)\n",
    "    valid_dataset, valid_labels = make_arrays(valid_size, image_size)\n",
    "    train_dataset, train_labels = make_arrays(train_size, image_size)\n",
    "    vsize_per_class = valid_size // num_classes\n",
    "    tsize_per_class = train_size // num_classes\n",
    "\n",
    "    start_v, start_t = 0, 0\n",
    "    end_v, end_t = vsize_per_class, tsize_per_class\n",
    "    end_l = vsize_per_class+tsize_per_class\n",
    "    for label, pickle_file in enumerate(pickle_files):       \n",
    "        try:\n",
    "              with open(pickle_file, 'rb') as f:\n",
    "                letter_set = pickle.load(f)\n",
    "                # let's shuffle the letters to have random validation and training set\n",
    "                np.random.shuffle(letter_set)\n",
    "                if valid_dataset is not None:\n",
    "                  valid_letter = letter_set[:vsize_per_class, :, :]\n",
    "                  valid_dataset[start_v:end_v, :, :] = valid_letter\n",
    "                  valid_labels[start_v:end_v] = label\n",
    "                  start_v += vsize_per_class\n",
    "                  end_v += vsize_per_class\n",
    "\n",
    "                train_letter = letter_set[vsize_per_class:end_l, :, :]\n",
    "                train_dataset[start_t:end_t, :, :] = train_letter\n",
    "                train_labels[start_t:end_t] = label\n",
    "                start_t += tsize_per_class\n",
    "                end_t += tsize_per_class\n",
    "        except Exception as e:\n",
    "            print('Unable to process data from', pickle_file, ':', e)\n",
    "            raise\n",
    "\n",
    "    return valid_dataset, valid_labels, train_dataset, train_labels"
   ]
  },
  {
   "cell_type": "code",
   "execution_count": 18,
   "metadata": {
    "collapsed": false
   },
   "outputs": [],
   "source": [
    "train_size = 200000\n",
    "valid_size = 10000\n",
    "test_size = 10000\n",
    "\n",
    "valid_dataset, valid_labels, train_dataset, train_labels = merge_datasets(\n",
    "train_datasets, train_size, valid_size)\n",
    "_, _, test_dataset, test_labels = merge_datasets(test_datasets, test_size)"
   ]
  },
  {
   "cell_type": "code",
   "execution_count": 19,
   "metadata": {
    "collapsed": false
   },
   "outputs": [
    {
     "name": "stdout",
     "output_type": "stream",
     "text": [
      "Training: (200000, 28, 28) (200000,)\n",
      "Validation: (10000, 28, 28) (10000,)\n",
      "Testing: (10000, 28, 28) (10000,)\n"
     ]
    }
   ],
   "source": [
    "print('Training:', train_dataset.shape, train_labels.shape)\n",
    "print('Validation:', valid_dataset.shape, valid_labels.shape)\n",
    "print('Testing:', test_dataset.shape, test_labels.shape)"
   ]
  },
  {
   "cell_type": "code",
   "execution_count": 20,
   "metadata": {
    "collapsed": true
   },
   "outputs": [],
   "source": [
    "def randomize(dataset, labels):\n",
    "    permutation = np.random.permutation(labels.shape[0])\n",
    "    shuffled_dataset = dataset[permutation, :, :]\n",
    "    shuffled_labels = labels[permutation]\n",
    "    return shuffled_dataset, shuffled_labels\n",
    "train_dataset, train_labels = randomize(train_dataset, train_labels)\n",
    "test_dataset, test_labels = randomize(test_dataset, test_labels)\n",
    "valid_dataset, valid_labels = randomize(valid_dataset, valid_labels)"
   ]
  },
  {
   "cell_type": "code",
   "execution_count": 21,
   "metadata": {
    "collapsed": false
   },
   "outputs": [],
   "source": [
    "pickle_file = os.path.join(data_root, 'notMNIST.pickle')\n",
    "try:\n",
    "    with open(pickle_file, 'wb') as f:\n",
    "        save = {\n",
    "            'train_dataset' : train_dataset,\n",
    "            'train_labels'  : train_labels,\n",
    "            'test_dataset'  : test_dataset,\n",
    "            'test_labels'   : test_labels,\n",
    "            'valid_dataset' : valid_dataset,\n",
    "            'valid_labels'  : valid_labels,\n",
    "        }\n",
    "        pickle.dump(save, f, pickle.HIGHEST_PROTOCOL)\n",
    "except IOError as e:\n",
    "    print('Unable to save data to ', pickle_file, ':', e)\n",
    "    raise"
   ]
  },
  {
   "cell_type": "code",
   "execution_count": 24,
   "metadata": {
    "collapsed": false
   },
   "outputs": [
    {
     "name": "stdout",
     "output_type": "stream",
     "text": [
      "Compressed pickle size: 690800441\n"
     ]
    }
   ],
   "source": [
    "statinfo = os.stat(pickle_file)\n",
    "print('Compressed pickle size:', statinfo.st_size)"
   ]
  },
  {
   "cell_type": "code",
   "execution_count": 26,
   "metadata": {
    "collapsed": true
   },
   "outputs": [],
   "source": [
    "logreg = linear_model.LogisticRegression()"
   ]
  },
  {
   "cell_type": "code",
   "execution_count": 27,
   "metadata": {
    "collapsed": false
   },
   "outputs": [
    {
     "data": {
      "text/plain": [
       "LogisticRegression(C=1.0, class_weight=None, dual=False, fit_intercept=True,\n",
       "          intercept_scaling=1, max_iter=100, multi_class='ovr', n_jobs=1,\n",
       "          penalty='l2', random_state=None, solver='liblinear', tol=0.0001,\n",
       "          verbose=0, warm_start=False)"
      ]
     },
     "execution_count": 27,
     "metadata": {},
     "output_type": "execute_result"
    }
   ],
   "source": [
    "logreg.fit(train_dataset.reshape((train_dataset.shape[0], -1)), train_labels)"
   ]
  },
  {
   "cell_type": "code",
   "execution_count": 30,
   "metadata": {
    "collapsed": false
   },
   "outputs": [
    {
     "data": {
      "text/plain": [
       "0.82369999999999999"
      ]
     },
     "execution_count": 30,
     "metadata": {},
     "output_type": "execute_result"
    }
   ],
   "source": [
    "predict_valid = logreg.predict(valid_dataset.reshape((valid_dataset.shape[0], -1)))\n",
    "logreg.score(valid_dataset.reshape((valid_dataset.shape[0], -1)), valid_labels)"
   ]
  },
  {
   "cell_type": "code",
   "execution_count": 31,
   "metadata": {
    "collapsed": false
   },
   "outputs": [
    {
     "name": "stdout",
     "output_type": "stream",
     "text": [
      "             precision    recall  f1-score   support\n",
      "\n",
      "          0       0.86      0.83      0.85      1000\n",
      "          1       0.84      0.80      0.82      1000\n",
      "          2       0.82      0.87      0.85      1000\n",
      "          3       0.85      0.84      0.84      1000\n",
      "          4       0.83      0.75      0.79      1000\n",
      "          5       0.83      0.88      0.85      1000\n",
      "          6       0.83      0.83      0.83      1000\n",
      "          7       0.83      0.81      0.82      1000\n",
      "          8       0.75      0.79      0.77      1000\n",
      "          9       0.80      0.83      0.82      1000\n",
      "\n",
      "avg / total       0.82      0.82      0.82     10000\n",
      "\n"
     ]
    }
   ],
   "source": [
    "print(classification_report(valid_labels, predict_valid))"
   ]
  },
  {
   "cell_type": "code",
   "execution_count": null,
   "metadata": {
    "collapsed": false
   },
   "outputs": [],
   "source": []
  },
  {
   "cell_type": "code",
   "execution_count": null,
   "metadata": {
    "collapsed": false
   },
   "outputs": [],
   "source": []
  },
  {
   "cell_type": "code",
   "execution_count": null,
   "metadata": {
    "collapsed": false
   },
   "outputs": [],
   "source": []
  },
  {
   "cell_type": "code",
   "execution_count": null,
   "metadata": {
    "collapsed": false
   },
   "outputs": [],
   "source": []
  },
  {
   "cell_type": "code",
   "execution_count": null,
   "metadata": {
    "collapsed": false
   },
   "outputs": [],
   "source": []
  },
  {
   "cell_type": "code",
   "execution_count": null,
   "metadata": {
    "collapsed": true
   },
   "outputs": [],
   "source": []
  },
  {
   "cell_type": "code",
   "execution_count": null,
   "metadata": {
    "collapsed": false
   },
   "outputs": [],
   "source": []
  },
  {
   "cell_type": "code",
   "execution_count": null,
   "metadata": {
    "collapsed": true
   },
   "outputs": [],
   "source": []
  }
 ],
 "metadata": {
  "anaconda-cloud": {},
  "kernelspec": {
   "display_name": "Python [Root]",
   "language": "python",
   "name": "Python [Root]"
  },
  "language_info": {
   "codemirror_mode": {
    "name": "ipython",
    "version": 2
   },
   "file_extension": ".py",
   "mimetype": "text/x-python",
   "name": "python",
   "nbconvert_exporter": "python",
   "pygments_lexer": "ipython2",
   "version": "2.7.12"
  }
 },
 "nbformat": 4,
 "nbformat_minor": 2
}
